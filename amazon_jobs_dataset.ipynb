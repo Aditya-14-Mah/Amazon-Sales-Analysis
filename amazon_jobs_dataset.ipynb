{
 "cells": [
  {
   "cell_type": "markdown",
   "metadata": {},
   "source": [
    "Task 1 Assignment No of Job Openings in Bangalore or Seattle Location"
   ]
  },
  {
   "cell_type": "code",
   "execution_count": 33,
   "metadata": {},
   "outputs": [
    {
     "name": "stdout",
     "output_type": "stream",
     "text": [
      "1922\n"
     ]
    }
   ],
   "source": [
    "import csv\n",
    "with open('amazon_jobs_dataset.csv','r',encoding='utf-8') as file_obj:\n",
    "    file_data=csv.reader(file_obj,skipinitialspace=True)\n",
    "    file_list=list(file_data)\n",
    "    c=0\n",
    "    for i in file_list[1:]:\n",
    "        index_1 = i[2].find('Bangalore')\n",
    "        index_2 = i[2].find('Seattle')\n",
    "        if index_1!=-1 or index_2!=-1:\n",
    "            c+=1\n",
    "    print(c)"
   ]
  },
  {
   "cell_type": "markdown",
   "metadata": {},
   "source": [
    "Task 2 Assignment No Of Job Openings in Computer Vision Field"
   ]
  },
  {
   "cell_type": "code",
   "execution_count": 32,
   "metadata": {},
   "outputs": [
    {
     "name": "stdout",
     "output_type": "stream",
     "text": [
      "14\n"
     ]
    }
   ],
   "source": [
    "import csv\n",
    "with open('amazon_jobs_dataset.csv','r',encoding='utf-8') as file_obj:\n",
    "    file_data=csv.reader(file_obj,skipinitialspace=True)\n",
    "    file_list=list(file_data)\n",
    "    c=0\n",
    "    for i in file_list[1:]:\n",
    "        index = i[1].find('Computer Vision')\n",
    "        if index!=-1:\n",
    "            c+=1\n",
    "    print(c)"
   ]
  },
  {
   "cell_type": "markdown",
   "metadata": {},
   "source": [
    "Task 3 No of Job Openings in a contry In Our case its Canada and we will be using contry code to find"
   ]
  },
  {
   "cell_type": "code",
   "execution_count": 31,
   "metadata": {},
   "outputs": [
    {
     "name": "stdout",
     "output_type": "stream",
     "text": [
      "3493\n"
     ]
    }
   ],
   "source": [
    "import csv\n",
    "with open('amazon_jobs_dataset.csv','r',encoding='utf-8') as file_obj:\n",
    "    file_data=csv.DictReader(file_obj,skipinitialspace=True)\n",
    "    file_list=list(file_data)\n",
    "    c=0\n",
    "    for i in file_list:\n",
    "        if i['DESCRIPTION'].find('Canada'):\n",
    "            c+=1\n",
    "    print(c)"
   ]
  },
  {
   "cell_type": "markdown",
   "metadata": {},
   "source": [
    "Name of the Month with Most no of openings in 2018"
   ]
  },
  {
   "cell_type": "code",
   "execution_count": 45,
   "metadata": {},
   "outputs": [
    {
     "name": "stdout",
     "output_type": "stream",
     "text": [
      "January\n"
     ]
    }
   ],
   "source": [
    "import csv\n",
    "with open('amazon_jobs_dataset.csv','r',encoding='utf-8') as file_obj:\n",
    "    file_data=csv.DictReader(file_obj,skipinitialspace=True)\n",
    "    file_list=list(file_data)\n",
    "    map={}\n",
    "    for i in file_list:\n",
    "        opening_time=i['Posting_date']\n",
    "        month=opening_time.split(' ')[0]\n",
    "        if month in map:\n",
    "            map[month]+=1\n",
    "        else:\n",
    "            map[month]=1\n",
    "maxi=0\n",
    "name=''\n",
    "for i in map:\n",
    "    if map[i]>maxi:\n",
    "        maxi=map[i]\n",
    "        name=i\n",
    "\n",
    "print(name)"
   ]
  },
  {
   "cell_type": "markdown",
   "metadata": {},
   "source": [
    "Find The Number Of Job Openings if someone has done Bachelors"
   ]
  },
  {
   "cell_type": "code",
   "execution_count": 47,
   "metadata": {},
   "outputs": [
    {
     "name": "stdout",
     "output_type": "stream",
     "text": [
      "2961\n"
     ]
    }
   ],
   "source": [
    "import csv\n",
    "with open('amazon_jobs_dataset.csv','r',encoding='utf-8') as file_obj:\n",
    "    file_data=csv.DictReader(file_obj,skipinitialspace=True)\n",
    "    file_list=list(file_data)\n",
    "    c=0\n",
    "    for i in file_list:\n",
    "        if i['BASIC QUALIFICATIONS'].find('Bachelor')!=-1 or i['BASIC QUALIFICATIONS'].find('BS')!=-1 or i['BASIC QUALIFICATIONS'].find('BA')!=-1:\n",
    "            c+=1\n",
    "    print(c)"
   ]
  },
  {
   "cell_type": "markdown",
   "metadata": {},
   "source": [
    "find the number of openings for c++, java, python programmer"
   ]
  },
  {
   "cell_type": "code",
   "execution_count": 55,
   "metadata": {},
   "outputs": [
    {
     "name": "stdout",
     "output_type": "stream",
     "text": [
      "C++ 403\n",
      "Java 730\n",
      "Python 311\n"
     ]
    }
   ],
   "source": [
    "import csv\n",
    "with open('amazon_jobs_dataset.csv','r',encoding='utf-8') as file_obj:\n",
    "    file_data=csv.DictReader(file_obj,skipinitialspace=True)\n",
    "    file_list=list(file_data)\n",
    "    map={}\n",
    "    for i in file_list:\n",
    "        if i['BASIC QUALIFICATIONS'].find('Bachelor')!=-1 or i['BASIC QUALIFICATIONS'].find('BA')!=-1 or i['BASIC QUALIFICATIONS'].find('BS')!=-1:\n",
    "            if i['PREFERRED QUALIFICATIONS'].find('C++')!=-1:\n",
    "                if 'C++' in map:\n",
    "                    map['C++']+=1\n",
    "                else:\n",
    "                    map['C++']=1\n",
    "            if i['PREFERRED QUALIFICATIONS'].find('Java')!=-1:\n",
    "                if 'Java' in map:\n",
    "                    map['Java']+=1\n",
    "                else:\n",
    "                    map['Java']=1\n",
    "            if i['PREFERRED QUALIFICATIONS'].find('Python')!=-1:\n",
    "                if 'Python' in map:\n",
    "                    map['Python']+=1\n",
    "                else:\n",
    "                    map['Python']=1\n",
    "    for i in map:\n",
    "        print(i,map[i])\n"
   ]
  },
  {
   "cell_type": "markdown",
   "metadata": {},
   "source": [
    "More Concise version of above code"
   ]
  },
  {
   "cell_type": "code",
   "execution_count": 56,
   "metadata": {},
   "outputs": [
    {
     "name": "stdout",
     "output_type": "stream",
     "text": [
      "C++ 403\n",
      "Java 730\n",
      "Python 311\n"
     ]
    }
   ],
   "source": [
    "import csv\n",
    "with open('amazon_jobs_dataset.csv','r',encoding='utf-8') as file_obj:\n",
    "    file_list=csv.DictReader(file_obj,skipinitialspace=True)\n",
    "    map={'C++':0,'Java':0,\"Python\":0}\n",
    "    for i in file_list:\n",
    "        if i['BASIC QUALIFICATIONS'].find('Bachelor')!=-1 or i['BASIC QUALIFICATIONS'].find('BA')!=-1 or i['BASIC QUALIFICATIONS'].find('BS')!=-1:\n",
    "            qualfication=i['PREFERRED QUALIFICATIONS']\n",
    "            for skill in map:\n",
    "                if qualfication.find(skill)!=-1:\n",
    "                    map[skill]+=1\n",
    "    for i in map:\n",
    "        print(i,map[i])\n"
   ]
  },
  {
   "cell_type": "markdown",
   "metadata": {},
   "source": [
    "Writing using the help of functions"
   ]
  },
  {
   "cell_type": "code",
   "execution_count": 58,
   "metadata": {},
   "outputs": [
    {
     "name": "stdout",
     "output_type": "stream",
     "text": [
      "C++: 403\n",
      "Java: 730\n",
      "Python: 311\n"
     ]
    }
   ],
   "source": [
    "import csv\n",
    "\n",
    "\n",
    "def get_skill_counts(file_path):\n",
    "    skill_counts = {'C++': 0, 'Java': 0, 'Python': 0}\n",
    "\n",
    "    with open(file_path, encoding='utf-8') as file_obj:\n",
    "        file_reader = csv.DictReader(file_obj, skipinitialspace=True)\n",
    "        for row in file_reader:\n",
    "            qualifications = row['PREFERRED QUALIFICATIONS']\n",
    "            if has_bachelors_degree(row):\n",
    "                for skill in skill_counts:\n",
    "                    if qualifications.find(skill) != -1:\n",
    "                        skill_counts[skill] += 1\n",
    "\n",
    "    return skill_counts\n",
    "\n",
    "\n",
    "def has_bachelors_degree(row):\n",
    "    return row['BASIC QUALIFICATIONS'].find('Bachelor') != -1 or row['BASIC QUALIFICATIONS'].find('BA') != -1 or row['BASIC QUALIFICATIONS'].find('BS') != -1\n",
    "\n",
    "\n",
    "if __name__ == '__main__':\n",
    "    skill_counts = get_skill_counts('amazon_jobs_dataset.csv')\n",
    "    for skill, count in skill_counts.items():\n",
    "        print(f'{skill}: {count}')\n"
   ]
  },
  {
   "cell_type": "code",
   "execution_count": 70,
   "metadata": {},
   "outputs": [
    {
     "name": "stdout",
     "output_type": "stream",
     "text": [
      "C++: 403\n",
      "Java: 730\n",
      "Python: 311\n"
     ]
    }
   ],
   "source": [
    "import csv\n",
    "#helper function\n",
    "def find(path):\n",
    "    map={'C++':0,'Java':0,'Python':0}\n",
    "    \n",
    "    with open(path, encoding='utf-8') as file_obj:\n",
    "        file_data=csv.DictReader(file_obj,skipinitialspace=True)\n",
    "        for i in file_data:\n",
    "            if can_vis(i):\n",
    "                for skill in map:\n",
    "                    if i['PREFERRED QUALIFICATIONS'].find(skill)!=-1:\n",
    "                        map[skill]+=1\n",
    "    return map\n",
    "\n",
    "def can_vis(row):\n",
    "    return row['BASIC QUALIFICATIONS'].find('Bachelor') != -1 or row['BASIC QUALIFICATIONS'].find('BA') != -1 or row['BASIC QUALIFICATIONS'].find('BS') != -1\n",
    "\n",
    "#main function\n",
    "if __name__ == '__main__':\n",
    "    map=find('amazon_jobs_dataset.csv')\n",
    "    for key,value in map.items():\n",
    "        print(f'{key}: {value}')"
   ]
  },
  {
   "cell_type": "markdown",
   "metadata": {},
   "source": [
    "Contry that needs the most number of java developers"
   ]
  },
  {
   "cell_type": "code",
   "execution_count": 85,
   "metadata": {},
   "outputs": [
    {
     "name": "stdout",
     "output_type": "stream",
     "text": [
      "US: 671\n"
     ]
    }
   ],
   "source": [
    "import csv\n",
    "#helper function\n",
    "def find(path):\n",
    "    \n",
    "    map={}\n",
    "\n",
    "    with open(path, encoding='utf-8') as file_obj:\n",
    "        file_data=csv.DictReader(file_obj,skipinitialspace=True)\n",
    "        for i in file_data:\n",
    "            if i['PREFERRED QUALIFICATIONS'].find(\"Java\")!=-1:\n",
    "                contry = i['location'].split(',')[0]\n",
    "                if contry not in map:\n",
    "                    map[contry]=1\n",
    "                else:\n",
    "                    map[contry]+=1\n",
    "    maxi=0\n",
    "    contry=\"\"\n",
    "    for i in map:\n",
    "        if map[i]>maxi:\n",
    "            maxi=map[i]\n",
    "            contry=i\n",
    "    return {contry:maxi}\n",
    "\n",
    "#main function\n",
    "if __name__ == '__main__':\n",
    "    map=find('amazon_jobs_dataset.csv')\n",
    "    for key,value in map.items():\n",
    "        print(f'{key}: {value}')"
   ]
  }
 ],
 "metadata": {
  "kernelspec": {
   "display_name": "Python 3 (ipykernel)",
   "language": "python",
   "name": "python3"
  },
  "language_info": {
   "codemirror_mode": {
    "name": "ipython",
    "version": 3
   },
   "file_extension": ".py",
   "mimetype": "text/x-python",
   "name": "python",
   "nbconvert_exporter": "python",
   "pygments_lexer": "ipython3",
   "version": "3.12.0"
  }
 },
 "nbformat": 4,
 "nbformat_minor": 4
}
